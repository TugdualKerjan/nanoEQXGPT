{
 "cells": [
  {
   "cell_type": "code",
   "execution_count": null,
   "metadata": {},
   "outputs": [],
   "source": [
    "import equinox as eqx\n",
    "import jax\n",
    "import equinox.nn as nn\n",
    "\n",
    "\n",
    "class text(eqx.Module):\n",
    "    first: nn.Linear\n",
    "    second: nn.Conv1d\n",
    "\n",
    "    def __init__(self):\n",
    "        self.first = nn.Linear(1, 2, use_bias=True, key=jax.random.key(1))\n",
    "        self.second = nn.Conv1d(2, 2, 1, use_bias=True, key=jax.random.key(2))"
   ]
  },
  {
   "cell_type": "code",
   "execution_count": 4,
   "metadata": {},
   "outputs": [
    {
     "name": "stdout",
     "output_type": "stream",
     "text": [
      "text(\n",
      "  first=Linear(\n",
      "    weight=f32[2,1],\n",
      "    bias=f32[2],\n",
      "    in_features=1,\n",
      "    out_features=2,\n",
      "    use_bias=True\n",
      "  ),\n",
      "  second=Conv1d(\n",
      "    num_spatial_dims=1,\n",
      "    weight=f32[2,2,1],\n",
      "    bias=f32[2,1],\n",
      "    in_channels=2,\n",
      "    out_channels=2,\n",
      "    kernel_size=(1,),\n",
      "    stride=(1,),\n",
      "    padding=((0, 0),),\n",
      "    dilation=(1,),\n",
      "    groups=1,\n",
      "    use_bias=True,\n",
      "    padding_mode='ZEROS'\n",
      "  )\n",
      ")\n"
     ]
    }
   ],
   "source": [
    "model = text()\n",
    "print(model)"
   ]
  },
  {
   "cell_type": "code",
   "execution_count": 8,
   "metadata": {},
   "outputs": [
    {
     "ename": "FrozenInstanceError",
     "evalue": "cannot assign to field 'weight'",
     "output_type": "error",
     "traceback": [
      "\u001b[0;31m---------------------------------------------------------------------------\u001b[0m",
      "\u001b[0;31mFrozenInstanceError\u001b[0m                       Traceback (most recent call last)",
      "Cell \u001b[0;32mIn[8], line 21\u001b[0m\n\u001b[1;32m     17\u001b[0m     y\u001b[38;5;241m.\u001b[39mbias \u001b[38;5;241m=\u001b[39m jnp\u001b[38;5;241m.\u001b[39mzeros_like(x\u001b[38;5;241m.\u001b[39mbias)\n\u001b[1;32m     18\u001b[0m     \u001b[38;5;28;01mreturn\u001b[39;00m y\n\u001b[0;32m---> 21\u001b[0m \u001b[38;5;28mprint\u001b[39m(jax\u001b[38;5;241m.\u001b[39mtree_util\u001b[38;5;241m.\u001b[39mtree_map(hop, model, is_leaf\u001b[38;5;241m=\u001b[39mis_linear))\n",
      "File \u001b[0;32m~/miniconda3/envs/jaxtts/lib/python3.11/site-packages/jax/_src/tree_util.py:344\u001b[0m, in \u001b[0;36mtree_map\u001b[0;34m(f, tree, is_leaf, *rest)\u001b[0m\n\u001b[1;32m    342\u001b[0m leaves, treedef \u001b[38;5;241m=\u001b[39m tree_flatten(tree, is_leaf)\n\u001b[1;32m    343\u001b[0m all_leaves \u001b[38;5;241m=\u001b[39m [leaves] \u001b[38;5;241m+\u001b[39m [treedef\u001b[38;5;241m.\u001b[39mflatten_up_to(r) \u001b[38;5;28;01mfor\u001b[39;00m r \u001b[38;5;129;01min\u001b[39;00m rest]\n\u001b[0;32m--> 344\u001b[0m \u001b[38;5;28;01mreturn\u001b[39;00m treedef\u001b[38;5;241m.\u001b[39munflatten(f(\u001b[38;5;241m*\u001b[39mxs) \u001b[38;5;28;01mfor\u001b[39;00m xs \u001b[38;5;129;01min\u001b[39;00m \u001b[38;5;28mzip\u001b[39m(\u001b[38;5;241m*\u001b[39mall_leaves))\n",
      "File \u001b[0;32m~/miniconda3/envs/jaxtts/lib/python3.11/site-packages/jax/_src/tree_util.py:344\u001b[0m, in \u001b[0;36m<genexpr>\u001b[0;34m(.0)\u001b[0m\n\u001b[1;32m    342\u001b[0m leaves, treedef \u001b[38;5;241m=\u001b[39m tree_flatten(tree, is_leaf)\n\u001b[1;32m    343\u001b[0m all_leaves \u001b[38;5;241m=\u001b[39m [leaves] \u001b[38;5;241m+\u001b[39m [treedef\u001b[38;5;241m.\u001b[39mflatten_up_to(r) \u001b[38;5;28;01mfor\u001b[39;00m r \u001b[38;5;129;01min\u001b[39;00m rest]\n\u001b[0;32m--> 344\u001b[0m \u001b[38;5;28;01mreturn\u001b[39;00m treedef\u001b[38;5;241m.\u001b[39munflatten(f(\u001b[38;5;241m*\u001b[39mxs) \u001b[38;5;28;01mfor\u001b[39;00m xs \u001b[38;5;129;01min\u001b[39;00m \u001b[38;5;28mzip\u001b[39m(\u001b[38;5;241m*\u001b[39mall_leaves))\n",
      "Cell \u001b[0;32mIn[8], line 16\u001b[0m, in \u001b[0;36mhop\u001b[0;34m(x)\u001b[0m\n\u001b[1;32m     13\u001b[0m key, grab \u001b[38;5;241m=\u001b[39m jax\u001b[38;5;241m.\u001b[39mrandom\u001b[38;5;241m.\u001b[39msplit(key)\n\u001b[1;32m     14\u001b[0m y \u001b[38;5;241m=\u001b[39m nn\u001b[38;5;241m.\u001b[39mLinear(\u001b[38;5;241m1\u001b[39m, \u001b[38;5;241m3\u001b[39m, key\u001b[38;5;241m=\u001b[39mgrab)\n\u001b[0;32m---> 16\u001b[0m y\u001b[38;5;241m.\u001b[39mweight \u001b[38;5;241m=\u001b[39m jax\u001b[38;5;241m.\u001b[39mnn\u001b[38;5;241m.\u001b[39minitializers\u001b[38;5;241m.\u001b[39mnormal(std)(grab, x\u001b[38;5;241m.\u001b[39mweight\u001b[38;5;241m.\u001b[39mshape) \u001b[38;5;241m+\u001b[39m mean\n\u001b[1;32m     17\u001b[0m y\u001b[38;5;241m.\u001b[39mbias \u001b[38;5;241m=\u001b[39m jnp\u001b[38;5;241m.\u001b[39mzeros_like(x\u001b[38;5;241m.\u001b[39mbias)\n\u001b[1;32m     18\u001b[0m \u001b[38;5;28;01mreturn\u001b[39;00m y\n",
      "File \u001b[0;32m<string>:4\u001b[0m, in \u001b[0;36m__setattr__\u001b[0;34m(self, name, value)\u001b[0m\n",
      "\u001b[0;31mFrozenInstanceError\u001b[0m: cannot assign to field 'weight'"
     ]
    }
   ],
   "source": [
    "import jax.numpy as jnp\n",
    "\n",
    "is_linear = lambda x: isinstance(x, nn.Linear)\n",
    "\n",
    "mean = 1\n",
    "std = 2\n",
    "\n",
    "key = jax.random.key(3)\n",
    "\n",
    "\n",
    "def hop(x):\n",
    "    global key\n",
    "    key, grab = jax.random.split(key)\n",
    "    y = nn.Linear(1, 3, key=grab)\n",
    "\n",
    "    y.weight = jax.nn.initializers.normal(std)(grab, x.weight.shape) + mean\n",
    "    y.bias = jnp.zeros_like(x.bias)\n",
    "    return y\n",
    "\n",
    "\n",
    "print(jax.tree_util.tree_map(hop, model, is_leaf=is_linear))"
   ]
  },
  {
   "cell_type": "code",
   "execution_count": 12,
   "metadata": {},
   "outputs": [],
   "source": [
    "class CausalSelfAttention(eqx.Module):\n",
    "    c_attn: nn.Linear\n",
    "    c_proj: nn.Linear\n",
    "\n",
    "    attn_dropout: nn.Dropout\n",
    "    resid_dropout: nn.Dropout\n",
    "\n",
    "    mask: jax.Array = eqx.field(static=True)\n",
    "\n",
    "    def __init__(self, n_embd=786, bias=True, dropout=0.1, block_size=1024, key=None):\n",
    "        key1, key2 = jax.random.split(key)\n",
    "        # Projection for W_1, W_2, W_3 in a batch\n",
    "        self.c_attn = nn.Linear(n_embd, n_embd * 3, use_bias=bias, key=key1)\n",
    "        # Output proj\n",
    "        self.c_proj = nn.Linear(n_embd, n_embd, use_bias=bias, key=key2)\n",
    "\n",
    "        # Regularisation\n",
    "        self.attn_dropout = nn.Dropout(dropout)\n",
    "        self.resid_dropout = nn.Dropout(dropout)\n",
    "        # self.n_head = n_head\n",
    "        # self.n_embd = n_embd\n",
    "\n",
    "        self.mask = jnp.tril(jnp.ones((block_size, block_size)))\n",
    "\n",
    "    @eqx.filter_jit\n",
    "    def __call__(self, x):\n",
    "        # X is of shape (seq, n_embd)\n",
    "        # Project into the head dim.\n",
    "        qkv = jax.vmap(self.c_attn)(x)\n",
    "        q, k, v = jnp.split(qkv, 3, axis=-1)\n",
    "        # Dim of (seq, head_dim)\n",
    "        kq = jnp.matmul(k, jnp.transpose(q))\n",
    "        # Dim of (seq, seq), a matrix showing which tokens are interested in each other.\n",
    "        # Mask to make causal\n",
    "        kq = jnp.where(jnp.equal(self.mask, 1), kq, -jnp.inf)  # Trick to lower compute\n",
    "\n",
    "        kq = jax.nn.softmax(kq)\n",
    "        # Add att dropout\n",
    "        kq = self.attn_dropout(kq)\n",
    "        outs = jnp.matmul(kq, v)\n",
    "\n",
    "        # Add residual dropout\n",
    "        outs = self.resid_dropout(outs)\n",
    "        return outs"
   ]
  },
  {
   "cell_type": "code",
   "execution_count": 13,
   "metadata": {},
   "outputs": [
    {
     "name": "stderr",
     "output_type": "stream",
     "text": [
      "/var/folders/79/hdfw6x594jbbkfl6hzwf8cxw0000gn/T/ipykernel_93968/3717415558.py:1: UserWarning: A JAX array is being set as static! This can result in unexpected behavior and is usually a mistake to do.\n",
      "  model = CausalSelfAttention(key=jax.random.key(1))\n"
     ]
    }
   ],
   "source": [
    "model = CausalSelfAttention(key=jax.random.key(1))"
   ]
  },
  {
   "cell_type": "code",
   "execution_count": null,
   "metadata": {},
   "outputs": [
    {
     "ename": "RuntimeError",
     "evalue": "Dropout requires a key when running in non-deterministic mode.",
     "output_type": "error",
     "traceback": [
      "\u001b[0;31m---------------------------------------------------------------------------\u001b[0m",
      "\u001b[0;31mRuntimeError\u001b[0m                              Traceback (most recent call last)",
      "Cell \u001b[0;32mIn[20], line 4\u001b[0m\n\u001b[1;32m      1\u001b[0m x \u001b[38;5;241m=\u001b[39m jax\u001b[38;5;241m.\u001b[39mrandom\u001b[38;5;241m.\u001b[39mnormal(key\u001b[38;5;241m=\u001b[39mjax\u001b[38;5;241m.\u001b[39mrandom\u001b[38;5;241m.\u001b[39mkey(\u001b[38;5;241m1\u001b[39m), shape\u001b[38;5;241m=\u001b[39m(\u001b[38;5;241m1024\u001b[39m, \u001b[38;5;241m786\u001b[39m))\n\u001b[1;32m      2\u001b[0m model \u001b[38;5;241m=\u001b[39m eqx\u001b[38;5;241m.\u001b[39mnn\u001b[38;5;241m.\u001b[39minference_mode(model, \u001b[38;5;28;01mFalse\u001b[39;00m)  \u001b[38;5;66;03m# Sets the dropout to 0\u001b[39;00m\n\u001b[0;32m----> 4\u001b[0m model(x)\n",
      "File \u001b[0;32m~/miniconda3/envs/jaxtts/lib/python3.11/site-packages/equinox/_module.py:1238\u001b[0m, in \u001b[0;36mPartial.__call__\u001b[0;34m(self, *args, **kwargs)\u001b[0m\n\u001b[1;32m   1225\u001b[0m \u001b[38;5;28;01mdef\u001b[39;00m \u001b[38;5;21m__call__\u001b[39m(\u001b[38;5;28mself\u001b[39m, \u001b[38;5;241m*\u001b[39margs, \u001b[38;5;241m*\u001b[39m\u001b[38;5;241m*\u001b[39mkwargs):\n\u001b[1;32m   1226\u001b[0m \u001b[38;5;250m    \u001b[39m\u001b[38;5;124;03m\"\"\"Call the wrapped `self.func`.\u001b[39;00m\n\u001b[1;32m   1227\u001b[0m \n\u001b[1;32m   1228\u001b[0m \u001b[38;5;124;03m    **Arguments:**\u001b[39;00m\n\u001b[0;32m   (...)\u001b[0m\n\u001b[1;32m   1236\u001b[0m \u001b[38;5;124;03m    The result of the wrapped function.\u001b[39;00m\n\u001b[1;32m   1237\u001b[0m \u001b[38;5;124;03m    \"\"\"\u001b[39;00m\n\u001b[0;32m-> 1238\u001b[0m     \u001b[38;5;28;01mreturn\u001b[39;00m \u001b[38;5;28mself\u001b[39m\u001b[38;5;241m.\u001b[39mfunc(\u001b[38;5;241m*\u001b[39m\u001b[38;5;28mself\u001b[39m\u001b[38;5;241m.\u001b[39margs, \u001b[38;5;241m*\u001b[39margs, \u001b[38;5;241m*\u001b[39m\u001b[38;5;241m*\u001b[39mkwargs, \u001b[38;5;241m*\u001b[39m\u001b[38;5;241m*\u001b[39m\u001b[38;5;28mself\u001b[39m\u001b[38;5;241m.\u001b[39mkeywords)\n",
      "    \u001b[0;31m[... skipping hidden 15 frame]\u001b[0m\n",
      "Cell \u001b[0;32mIn[12], line 39\u001b[0m, in \u001b[0;36mCausalSelfAttention.__call__\u001b[0;34m(self, x)\u001b[0m\n\u001b[1;32m     37\u001b[0m kq \u001b[38;5;241m=\u001b[39m jax\u001b[38;5;241m.\u001b[39mnn\u001b[38;5;241m.\u001b[39msoftmax(kq)\n\u001b[1;32m     38\u001b[0m \u001b[38;5;66;03m# Add att dropout\u001b[39;00m\n\u001b[0;32m---> 39\u001b[0m kq \u001b[38;5;241m=\u001b[39m \u001b[38;5;28mself\u001b[39m\u001b[38;5;241m.\u001b[39mattn_dropout(kq)\n\u001b[1;32m     40\u001b[0m outs \u001b[38;5;241m=\u001b[39m jnp\u001b[38;5;241m.\u001b[39mmatmul(kq, v)\n\u001b[1;32m     42\u001b[0m \u001b[38;5;66;03m# Add residual dropout\u001b[39;00m\n",
      "File \u001b[0;32m~/miniconda3/envs/jaxtts/lib/python3.11/contextlib.py:81\u001b[0m, in \u001b[0;36mContextDecorator.__call__.<locals>.inner\u001b[0;34m(*args, **kwds)\u001b[0m\n\u001b[1;32m     78\u001b[0m \u001b[38;5;129m@wraps\u001b[39m(func)\n\u001b[1;32m     79\u001b[0m \u001b[38;5;28;01mdef\u001b[39;00m \u001b[38;5;21minner\u001b[39m(\u001b[38;5;241m*\u001b[39margs, \u001b[38;5;241m*\u001b[39m\u001b[38;5;241m*\u001b[39mkwds):\n\u001b[1;32m     80\u001b[0m     \u001b[38;5;28;01mwith\u001b[39;00m \u001b[38;5;28mself\u001b[39m\u001b[38;5;241m.\u001b[39m_recreate_cm():\n\u001b[0;32m---> 81\u001b[0m         \u001b[38;5;28;01mreturn\u001b[39;00m func(\u001b[38;5;241m*\u001b[39margs, \u001b[38;5;241m*\u001b[39m\u001b[38;5;241m*\u001b[39mkwds)\n",
      "File \u001b[0;32m~/miniconda3/envs/jaxtts/lib/python3.11/site-packages/equinox/nn/_dropout.py:91\u001b[0m, in \u001b[0;36mDropout.__call__\u001b[0;34m(self, x, key, inference, deterministic)\u001b[0m\n\u001b[1;32m     89\u001b[0m     \u001b[38;5;28;01mreturn\u001b[39;00m x\n\u001b[1;32m     90\u001b[0m \u001b[38;5;28;01melif\u001b[39;00m key \u001b[38;5;129;01mis\u001b[39;00m \u001b[38;5;28;01mNone\u001b[39;00m:\n\u001b[0;32m---> 91\u001b[0m     \u001b[38;5;28;01mraise\u001b[39;00m \u001b[38;5;167;01mRuntimeError\u001b[39;00m(\n\u001b[1;32m     92\u001b[0m         \u001b[38;5;124m\"\u001b[39m\u001b[38;5;124mDropout requires a key when running in non-deterministic mode.\u001b[39m\u001b[38;5;124m\"\u001b[39m\n\u001b[1;32m     93\u001b[0m     )\n\u001b[1;32m     94\u001b[0m \u001b[38;5;28;01melse\u001b[39;00m:\n\u001b[1;32m     95\u001b[0m     q \u001b[38;5;241m=\u001b[39m \u001b[38;5;241m1\u001b[39m \u001b[38;5;241m-\u001b[39m lax\u001b[38;5;241m.\u001b[39mstop_gradient(\u001b[38;5;28mself\u001b[39m\u001b[38;5;241m.\u001b[39mp)\n",
      "\u001b[0;31mRuntimeError\u001b[0m: Dropout requires a key when running in non-deterministic mode."
     ]
    }
   ],
   "source": [
    "import optax\n",
    "\n",
    "learning_rate = 1e-4\n",
    "\n",
    "lr_scheduler = optax.warmup_cosine_decay_schedule(\n",
    "    init_value=0.0,\n",
    "    peak_value=learning_rate,\n",
    "    warmup_steps=20,\n",
    "    decay_steps=30,\n",
    "    end_value=1e-5,\n",
    ")\n",
    "\n",
    "optimizer = optax.inject_hyperparams(optax.adamw)(\n",
    "    learning_rate=lr_scheduler, b1=0.9, b2=0.95\n",
    ")\n",
    "\n",
    "optimizer.init()"
   ]
  },
  {
   "cell_type": "code",
   "execution_count": null,
   "metadata": {},
   "outputs": [],
   "source": [
    "from model import GPT\n",
    "import equinox as eqx\n",
    "\n",
    "# print(enc.special_tokens_set)\n",
    "start = \"Once upon\"\n",
    "\n",
    "model = GPT(config)\n",
    "model = eqx.tree_deserialise_leaves(\"out/ckpt.pt\", model)\n",
    "x = jax.numpy.array([enc.encode(start)])\n",
    "\n",
    "while x[0, -1] != enc.eot_token:\n",
    "    logits = jax.vmap(model)(x)\n",
    "    x = jax.numpy.concat(\n",
    "        [x, jax.numpy.array([[jax.numpy.argmax(logits[0, -1])]])], axis=-1\n",
    "    )\n",
    "    print(enc.decode(jax.numpy.squeeze(x, axis=0)))"
   ]
  }
 ],
 "metadata": {
  "kernelspec": {
   "display_name": "xtts",
   "language": "python",
   "name": "python3"
  },
  "language_info": {
   "codemirror_mode": {
    "name": "ipython",
    "version": 3
   },
   "file_extension": ".py",
   "mimetype": "text/x-python",
   "name": "python",
   "nbconvert_exporter": "python",
   "pygments_lexer": "ipython3",
   "version": "3.10.15"
  }
 },
 "nbformat": 4,
 "nbformat_minor": 2
}
