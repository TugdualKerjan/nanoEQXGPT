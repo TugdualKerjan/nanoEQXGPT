{
 "cells": [
  {
   "cell_type": "code",
   "execution_count": 3,
   "metadata": {},
   "outputs": [],
   "source": [
    "!cp out-tinystories/model.eqx out-tinystories/test_model.eqx"
   ]
  },
  {
   "cell_type": "code",
   "execution_count": null,
   "metadata": {},
   "outputs": [
    {
     "name": "stdout",
     "output_type": "stream",
     "text": [
      "Overriding config with config/train_tinystories.py:\n",
      "# train a miniature character-level shakespeare model\n",
      "# good for debugging and playing on macbooks and such\n",
      "\n",
      "out_path = 'out-tinystories/model.eqx'\n",
      "eval_interval = 250 # keep frequent because we'll overfit\n",
      "eval_iters = 20\n",
      "log_interval = 5 # don't print too too often\n",
      "\n",
      "# we expect to overfit on this small dataset, so only save when val improves\n",
      "always_save_checkpoint = False\n",
      "\n",
      "wandb_log = True # override via command line if you like\n",
      "tensorboard_log = False # override via command line if you like\n",
      "log_project = \"exp4\"\n",
      "log_run_name = \"enc_dec_standard\"  # 'run' + str(time.time())\n",
      "\n",
      "dataset = 'tinystories'\n",
      "gradient_accumulation_steps = 1\n",
      "batch_size = 32\n",
      "block_size = 100 # context of up to 256 previous characters\n",
      "\n",
      "# baby GPT model :)\n",
      "n_layer = 16\n",
      "n_head = 12\n",
      "n_embd = 512\n",
      "dropout = 0.0\n",
      "\n",
      "learning_rate = 1e-4 # with baby networks can afford to go a bit higher\n",
      "max_iters = 500\n",
      "lr_decay_iters = 500 # make equal to max_iters usually\n",
      "min_lr = 1e-5 # learning_rate / 10 usually\n",
      "beta2 = 0.99 # make a bit bigger because number of tokens per iter is small\n",
      "\n",
      "warmup_iters = 100 # not super necessary potentially\n",
      "\n",
      "# on macbook also add\n",
      "# device = 'cpu'  # run on cpu only\n",
      "# compile = False # do not torch compile the model\n",
      "Overriding: out_path = out-tinystories/test_model.eqx\n",
      "Overriding: max_iters = 250\n",
      "Overriding: init_from = resume\n",
      "✅ Output dir created !\n",
      "Resuming training from out-tinystories/test_model.eqx\n",
      ".enc_wpe\n",
      ".enc_wte\n",
      ".enc_block\n",
      ".enc_drop\n",
      ".cross_block\n",
      "✅ Model initialized !\n",
      "✅ Optimizer initialized !\n",
      "\u001b[34m\u001b[1mwandb\u001b[0m: Using wandb-core as the SDK backend.  Please refer to https://wandb.me/wandb-core for more information.\n",
      "\u001b[34m\u001b[1mwandb\u001b[0m: Currently logged in as: \u001b[33mtugdual-kerjan\u001b[0m (\u001b[33mtugdualk\u001b[0m). Use \u001b[1m`wandb login --relogin`\u001b[0m to force relogin\n",
      "\u001b[34m\u001b[1mwandb\u001b[0m: Tracking run with wandb version 0.18.7\n",
      "\u001b[34m\u001b[1mwandb\u001b[0m: Run data is saved locally in \u001b[35m\u001b[1m/home/tugdual/nanoEQXGPT/wandb/run-20241204_120451-yx5gfcql\u001b[0m\n",
      "\u001b[34m\u001b[1mwandb\u001b[0m: Run \u001b[1m`wandb offline`\u001b[0m to turn off syncing.\n",
      "\u001b[34m\u001b[1mwandb\u001b[0m: Syncing run \u001b[33menc_dec_standard\u001b[0m\n",
      "\u001b[34m\u001b[1mwandb\u001b[0m: ⭐️ View project at \u001b[34m\u001b[4mhttps://wandb.ai/tugdualk/exp4\u001b[0m\n",
      "\u001b[34m\u001b[1mwandb\u001b[0m: 🚀 View run at \u001b[34m\u001b[4mhttps://wandb.ai/tugdualk/exp4/runs/yx5gfcql\u001b[0m\n",
      "👀 Starting run !\n",
      "Traceback (most recent call last):\n",
      "  File \"/home/tugdual/nanoEQXGPT/train.py\", line 291, in <module>\n",
      "    x, y = get_batch(\"train\")\n",
      "  File \"/home/tugdual/nanoEQXGPT/train.py\", line 105, in get_batch\n",
      "    enc_x = jnp.stack([jnp.array(large_data[i : i + block_size]) for i in ix])\n",
      "  File \"/home/tugdual/miniconda3/envs/xtts/lib/python3.10/site-packages/jax/_src/numpy/lax_numpy.py\", line 4474, in stack\n",
      "    raise ValueError(\"All input arrays must have the same shape.\")\n",
      "ValueError: All input arrays must have the same shape.\n",
      "\u001b[1;34mwandb\u001b[0m: 🚀 View run \u001b[33menc_dec_standard\u001b[0m at: \u001b[34mhttps://wandb.ai/tugdualk/exp4/runs/yx5gfcql\u001b[0m\n",
      "\u001b[1;34mwandb\u001b[0m: Find logs at: \u001b[1;35mwandb/run-20241204_120451-yx5gfcql/logs\u001b[0m\n"
     ]
    }
   ],
   "source": [
    "!python train.py config/train_new_tinystories.py --out_path=\"out-tinystories/test_model.eqx\" --max_iters=250 --init_from=\"resume\""
   ]
  }
 ],
 "metadata": {
  "kernelspec": {
   "display_name": "xtts",
   "language": "python",
   "name": "python3"
  },
  "language_info": {
   "codemirror_mode": {
    "name": "ipython",
    "version": 3
   },
   "file_extension": ".py",
   "mimetype": "text/x-python",
   "name": "python",
   "nbconvert_exporter": "python",
   "pygments_lexer": "ipython3",
   "version": "3.10.15"
  }
 },
 "nbformat": 4,
 "nbformat_minor": 2
}
