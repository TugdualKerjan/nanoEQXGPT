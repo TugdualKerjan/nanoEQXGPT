{
 "cells": [
  {
   "cell_type": "code",
   "execution_count": null,
   "metadata": {},
   "outputs": [],
   "source": [
    "!python train.py config/train_new_tinystories.py  --out_path=\"out-tinystories/model.eqx\" --max_iters=250"
   ]
  },
  {
   "cell_type": "code",
   "execution_count": 5,
   "metadata": {},
   "outputs": [
    {
     "name": "stdout",
     "output_type": "stream",
     "text": [
      "Overriding config with config/train_tinystories.py:\n",
      "# train a miniature character-level shakespeare model\n",
      "# good for debugging and playing on macbooks and such\n",
      "\n",
      "out_path = 'out-tinystories/model.eqx'\n",
      "eval_interval = 250 # keep frequent because we'll overfit\n",
      "eval_iters = 20\n",
      "log_interval = 5 # don't print too too often\n",
      "\n",
      "# we expect to overfit on this small dataset, so only save when val improves\n",
      "always_save_checkpoint = False\n",
      "\n",
      "wandb_log = False # override via command line if you like\n",
      "tensorboard_log = True # override via command line if you like\n",
      "\n",
      "dataset = 'tinystories'\n",
      "gradient_accumulation_steps = 1\n",
      "batch_size = 32\n",
      "block_size = 100 # context of up to 256 previous characters\n",
      "\n",
      "# baby GPT model :)\n",
      "n_layer = 16\n",
      "n_head = 12\n",
      "n_embd = 512\n",
      "dropout = 0.0\n",
      "\n",
      "learning_rate = 1e-4 # with baby networks can afford to go a bit higher\n",
      "max_iters = 500\n",
      "lr_decay_iters = 500 # make equal to max_iters usually\n",
      "min_lr = 1e-5 # learning_rate / 10 usually\n",
      "beta2 = 0.99 # make a bit bigger because number of tokens per iter is small\n",
      "\n",
      "warmup_iters = 100 # not super necessary potentially\n",
      "\n",
      "# on macbook also add\n",
      "# device = 'cpu'  # run on cpu only\n",
      "# compile = False # do not torch compile the model\n",
      "Overriding: init_from = resume\n",
      "Overriding: out_path = out-tinystories/model2.eqx\n",
      "Overriding: max_iters = 250\n",
      "✅ Output dir created !\n",
      "Resuming training from out-tinystories/model2.eqx\n",
      "/home/tugdual/nanoEQXGPT/train.py:174: UserWarning: A JAX array is being set as static! This can result in unexpected behavior and is usually a mistake to do.\n",
      "  model = GPT(gptconf, key=jax.random.key(1))\n",
      "✅ Model initialized !\n",
      "✅ Optimizer initialized !\n",
      "👀 Starting run !\n",
      "Traced<ShapedArray(float32[100,512])>with<DynamicJaxprTrace(level=3/0)>\n",
      "saving checkpoint to out-tinystories/model2.eqx\n",
      "^C\n"
     ]
    }
   ],
   "source": [
    "!python train.py config/train_tinystories.py  --init_from=\"resume\"  --out_path=\"out-tinystories/model2.eqx\" --max_iters=250"
   ]
  },
  {
   "cell_type": "code",
   "execution_count": 30,
   "metadata": {},
   "outputs": [
    {
     "name": "stdout",
     "output_type": "stream",
     "text": [
      "(3, 4)\n",
      "[[ 0.07545026 -1.0032071  -1.1431501  -0.14357094]\n",
      " [ 0.5904228  -1.4384178  -0.03499871  0.14507416]]\n",
      "[ 0.07545026 -1.0032071  -1.1431501  -0.14357094]\n",
      "[ 0.5904228  -1.4384178  -0.03499871  0.14507416]\n",
      "[ 0.23655683  1.5627991  -1.1358407   0.9167496 ]\n"
     ]
    }
   ],
   "source": [
    "import jax\n",
    "import equinox as eqx\n",
    "\n",
    "\n",
    "emb = eqx.nn.Embedding(3, 4, key=jax.random.key(1))\n",
    "x = jax.numpy.array([[1, 0, 0.0],[0,1,0]])\n",
    "\n",
    "print(emb.weight.shape)\n",
    "print(jax.numpy.matmul(x, emb.weight))\n",
    "print(emb.weight[0])\n",
    "print(emb.weight[1])\n",
    "print(emb.weight[2])"
   ]
  },
  {
   "cell_type": "code",
   "execution_count": null,
   "metadata": {},
   "outputs": [],
   "source": []
  },
  {
   "cell_type": "code",
   "execution_count": null,
   "metadata": {},
   "outputs": [],
   "source": []
  }
 ],
 "metadata": {
  "kernelspec": {
   "display_name": "xtts",
   "language": "python",
   "name": "python3"
  },
  "language_info": {
   "codemirror_mode": {
    "name": "ipython",
    "version": 3
   },
   "file_extension": ".py",
   "mimetype": "text/x-python",
   "name": "python",
   "nbconvert_exporter": "python",
   "pygments_lexer": "ipython3",
   "version": "3.10.15"
  }
 },
 "nbformat": 4,
 "nbformat_minor": 2
}
