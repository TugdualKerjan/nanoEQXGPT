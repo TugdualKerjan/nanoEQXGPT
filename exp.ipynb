{
 "cells": [
  {
   "cell_type": "code",
   "execution_count": 3,
   "metadata": {},
   "outputs": [],
   "source": [
    "!cp out-tinystories/model.eqx out-tinystories/test_model.eqx"
   ]
  },
  {
   "cell_type": "code",
   "execution_count": 3,
   "metadata": {},
   "outputs": [
    {
     "name": "stdout",
     "output_type": "stream",
     "text": [
      "Overriding config with config/train_tinystories.py:\n",
      "# train a miniature character-level shakespeare model\n",
      "# good for debugging and playing on macbooks and such\n",
      "\n",
      "out_path = 'out-tinystories/model.eqx'\n",
      "eval_interval = 1000 # keep frequent because we'll overfit\n",
      "eval_iters = 20\n",
      "log_interval = 5 # don't print too too often\n",
      "\n",
      "# we expect to overfit on this small dataset, so only save when val improves\n",
      "always_save_checkpoint = False\n",
      "\n",
      "wandb_log = False # override via command line if you like\n",
      "tensorboard_log = True # override via command line if you like\n",
      "log_project = \"exp5\"\n",
      "log_run_name = \"enc_dec_standard_scratch\"  # 'run' + str(time.time())\n",
      "\n",
      "dataset = 'tinystories'\n",
      "gradient_accumulation_steps = 1\n",
      "batch_size = 32\n",
      "block_size = 100 # context of up to 256 previous characters\n",
      "\n",
      "# baby GPT model :)\n",
      "n_layer = 16\n",
      "n_head = 12\n",
      "n_embd = 512\n",
      "dropout = 0.0\n",
      "\n",
      "learning_rate = 1e-4 # with baby networks can afford to go a bit higher\n",
      "max_iters = 500\n",
      "lr_decay_iters = 500 # make equal to max_iters usually\n",
      "min_lr = 1e-5 # learning_rate / 10 usually\n",
      "beta2 = 0.99 # make a bit bigger because number of tokens per iter is small\n",
      "\n",
      "warmup_iters = 100 # not super necessary potentially\n",
      "\n",
      "# on macbook also add\n",
      "# device = 'cpu'  # run on cpu only\n",
      "# compile = False # do not torch compile the model\n",
      "Overriding: out_path = out-tinystories/model_enc_dec.eqx\n",
      "Overriding: max_iters = 500\n",
      "✅ Output dir created !\n",
      "Initializing a new model from scratch\n",
      "✅ Model initialized !\n",
      "✅ Optimizer initialized !\n",
      "👀 Starting run !\n",
      "Traceback (most recent call last):\n",
      "  File \"/home/tugdual/nanoEQXGPT/train.py\", line 297, in <module>\n",
      "    print(decode(x))\n",
      "  File \"/home/tugdual/nanoEQXGPT/train.py\", line 296, in <lambda>\n",
      "    decode = lambda l: enc.decode(l)\n",
      "  File \"/home/tugdual/miniconda3/envs/xtts/lib/python3.10/site-packages/tiktoken/core.py\", line 254, in decode\n",
      "    return self._core_bpe.decode_bytes(tokens).decode(\"utf-8\", errors=errors)\n",
      "TypeError: argument 'tokens': Only integer scalar arrays can be converted to a scalar index.\n"
     ]
    }
   ],
   "source": [
    "!python train.py config/train_tinystories.py --out_path=\"out-tinystories/model_enc_dec.eqx\" --max_iters=500"
   ]
  },
  {
   "cell_type": "code",
   "execution_count": null,
   "metadata": {},
   "outputs": [],
   "source": []
  }
 ],
 "metadata": {
  "kernelspec": {
   "display_name": "xtts",
   "language": "python",
   "name": "python3"
  },
  "language_info": {
   "codemirror_mode": {
    "name": "ipython",
    "version": 3
   },
   "file_extension": ".py",
   "mimetype": "text/x-python",
   "name": "python",
   "nbconvert_exporter": "python",
   "pygments_lexer": "ipython3",
   "version": "3.10.15"
  }
 },
 "nbformat": 4,
 "nbformat_minor": 2
}
