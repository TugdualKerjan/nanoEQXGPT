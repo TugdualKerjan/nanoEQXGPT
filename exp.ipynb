{
 "cells": [
  {
   "cell_type": "code",
   "execution_count": null,
   "metadata": {},
   "outputs": [],
   "source": [
    "!cp out-tinystories/model.eqx out-tinystories/model2.eqx"
   ]
  },
  {
   "cell_type": "code",
   "execution_count": 19,
   "metadata": {},
   "outputs": [
    {
     "name": "stdout",
     "output_type": "stream",
     "text": [
      "Overriding config with config/train_tinystories.py:\n",
      "# train a miniature character-level shakespeare model\n",
      "# good for debugging and playing on macbooks and such\n",
      "\n",
      "out_path = 'out-tinystories/model.eqx'\n",
      "eval_interval = 250 # keep frequent because we'll overfit\n",
      "eval_iters = 20\n",
      "log_interval = 5 # don't print too too often\n",
      "\n",
      "# we expect to overfit on this small dataset, so only save when val improves\n",
      "always_save_checkpoint = False\n",
      "\n",
      "wandb_log = False # override via command line if you like\n",
      "tensorboard_log = True # override via command line if you like\n",
      "\n",
      "dataset = 'tinystories'\n",
      "gradient_accumulation_steps = 1\n",
      "batch_size = 32\n",
      "block_size = 100 # context of up to 256 previous characters\n",
      "\n",
      "# baby GPT model :)\n",
      "n_layer = 16\n",
      "n_head = 12\n",
      "n_embd = 512\n",
      "dropout = 0.0\n",
      "\n",
      "learning_rate = 1e-4 # with baby networks can afford to go a bit higher\n",
      "max_iters = 500\n",
      "lr_decay_iters = 500 # make equal to max_iters usually\n",
      "min_lr = 1e-5 # learning_rate / 10 usually\n",
      "beta2 = 0.99 # make a bit bigger because number of tokens per iter is small\n",
      "\n",
      "warmup_iters = 100 # not super necessary potentially\n",
      "\n",
      "# on macbook also add\n",
      "# device = 'cpu'  # run on cpu only\n",
      "# compile = False # do not torch compile the model\n",
      "Overriding: init_from = resume\n",
      "Overriding: out_path = out-tinystories/model2.eqx\n",
      "Overriding: max_iters = 250\n",
      "✅ Output dir created !\n",
      "Resuming training from out-tinystories/model2.eqx\n",
      "/home/tugdual/nanoEQXGPT/train.py:174: UserWarning: A JAX array is being set as static! This can result in unexpected behavior and is usually a mistake to do.\n",
      "  model = GPT(gptconf, key=jax.random.key(1))\n",
      "[[ 0.12109907  0.31101847 -1.6059355  ...  1.1530576   0.2163548\n",
      "  -0.5622188 ]\n",
      " [ 1.0672128  -1.5652729   1.4387369  ...  0.4113771   0.46480295\n",
      "  -0.28828877]\n",
      " [-0.238296   -0.70584774 -1.6720864  ... -0.5303382  -1.2799317\n",
      "  -0.49399894]\n",
      " ...\n",
      " [-0.07282291  0.00555773  0.08676678 ... -0.9966317  -0.40268388\n",
      "  -0.9683724 ]\n",
      " [ 0.89961547 -2.2269518   0.9140878  ...  1.0736173   0.08662192\n",
      "   1.6352468 ]\n",
      " [-0.5201029  -1.2337197   0.06103352 ...  0.16112807  1.3643184\n",
      "   0.01473001]]\n",
      "[1.9879135e-05 1.9879135e-05 1.9879135e-05 ... 1.9879135e-05 1.9879135e-05\n",
      " 1.9879135e-05]\n",
      "✅ Model initialized !\n",
      "✅ Optimizer initialized !\n",
      "👀 Starting run !\n",
      "Shape of x: Traced<ShapedArray(float32[100,50304])>with<BatchTrace(level=2/0)> with\n",
      "  val = Traced<ShapedArray(float32[32,100,50304])>with<DynamicJaxprTrace(level=1/0)>\n",
      "  batch_dim = 0\n",
      "jax.errors.SimplifiedTraceback: For simplicity, JAX has removed its internal frames from the traceback of the following exception. Set JAX_TRACEBACK_FILTERING=off to include these.\n",
      "\n",
      "The above exception was the direct cause of the following exception:\n",
      "\n",
      "Traceback (most recent call last):\n",
      "  File \"/home/tugdual/nanoEQXGPT/train.py\", line 278, in <module>\n",
      "    losses = estimate_loss(model)\n",
      "  File \"/home/tugdual/nanoEQXGPT/train.py\", line 245, in estimate_loss\n",
      "    loss = compute_loss(\n",
      "  File \"/home/tugdual/miniconda3/envs/xtts/lib/python3.10/site-packages/equinox/_jit.py\", line 275, in __call__\n",
      "    return self._call(False, args, kwargs)\n",
      "  File \"/home/tugdual/miniconda3/envs/xtts/lib/python3.10/site-packages/equinox/_module.py\", line 1096, in __call__\n",
      "    return self.__func__(self.__self__, *args, **kwargs)\n",
      "  File \"/home/tugdual/miniconda3/envs/xtts/lib/python3.10/site-packages/equinox/_jit.py\", line 244, in _call\n",
      "    marker, _, _ = out = self._cached(\n",
      "  File \"/home/tugdual/nanoEQXGPT/train.py\", line 228, in compute_loss\n",
      "    logits = jax.vmap(model, in_axes=(0, None, 0))(x, True, keys)\n",
      "  File \"/home/tugdual/nanoEQXGPT/model.py\", line 190, in __call__\n",
      "    tok_emb = jax.vmap(self.wte)(x)\n",
      "  File \"/home/tugdual/miniconda3/envs/xtts/lib/python3.10/contextlib.py\", line 79, in inner\n",
      "    return func(*args, **kwds)\n",
      "  File \"/home/tugdual/miniconda3/envs/xtts/lib/python3.10/site-packages/equinox/nn/_embedding.py\", line 102, in __call__\n",
      "    raise ValueError(\n",
      "ValueError: `eqx.nn.Embedding()(x)` should be called with a scalar index `x`. Use `jax.vmap` if you would like to index with multiple values.\n"
     ]
    }
   ],
   "source": [
    "!python train.py config/train_tinystories.py  --init_from=\"resume\"  --out_path=\"out-tinystories/model2.eqx\" --max_iters=250"
   ]
  },
  {
   "cell_type": "code",
   "execution_count": null,
   "metadata": {},
   "outputs": [],
   "source": [
    "import jax\n",
    "import equinox as eqx\n",
    "\n",
    "\n",
    "emb = eqx.nn.Embedding(3, 4, key=jax.random.key(1))\n",
    "x = jax.numpy.array([0.4, 0.3, 0.3])\n",
    "\n",
    "\n"
   ]
  },
  {
   "cell_type": "code",
   "execution_count": null,
   "metadata": {},
   "outputs": [],
   "source": []
  },
  {
   "cell_type": "code",
   "execution_count": null,
   "metadata": {},
   "outputs": [],
   "source": []
  }
 ],
 "metadata": {
  "kernelspec": {
   "display_name": "xtts",
   "language": "python",
   "name": "python3"
  },
  "language_info": {
   "codemirror_mode": {
    "name": "ipython",
    "version": 3
   },
   "file_extension": ".py",
   "mimetype": "text/x-python",
   "name": "python",
   "nbconvert_exporter": "python",
   "pygments_lexer": "ipython3",
   "version": "3.10.15"
  }
 },
 "nbformat": 4,
 "nbformat_minor": 2
}
