{
 "cells": [
  {
   "cell_type": "code",
   "execution_count": null,
   "metadata": {},
   "outputs": [],
   "source": [
    "!python train.py config/train_tinystories.py --out_path=\"out-tinystories/model.eqx\" --max_iters=250"
   ]
  },
  {
   "cell_type": "code",
   "execution_count": null,
   "metadata": {},
   "outputs": [],
   "source": [
    "import json\n",
    "import os\n",
    "from model import GPT, GPTConfig\n",
    "import equinox as eqx\n",
    "import jax\n",
    "import jax.tree_util as jtu\n",
    "\n",
    "def load(filename):\n",
    "    with open(filename, \"rb\") as f:\n",
    "        checkpoint_params = json.loads(f.readline().decode())\n",
    "        gptconf = GPTConfig(**checkpoint_params[\"model_args\"])\n",
    "        return (\n",
    "            eqx.tree_deserialise_leaves(\n",
    "                f, GPT.create_instance(gptconf, key=jax.random.key(1))\n",
    "            ),\n",
    "            checkpoint_params,\n",
    "        )\n",
    "        \n",
    "        \n",
    "model, checkpoint_params = load(\"out-tinystories/model.eqx\")\n",
    "\n",
    "def model_surgery(path, x):\n",
    "    if \"wte.weight\" in jax.tree_util.keystr(path):\n",
    "        return jax.random.normal(jax.random.key(1), shape=x.shape)\n",
    "    return x\n",
    "\n",
    "model = jtu.tree_map_with_path(model_surgery, model)\n",
    "print(checkpoint_params)\n",
    "def save(filename, hyperparams, model):\n",
    "    with open(filename, \"wb\") as f:\n",
    "        hyperparam_str = json.dumps(hyperparams)\n",
    "        f.write((hyperparam_str + \"\\n\").encode())\n",
    "        eqx.tree_serialise_leaves(f, model)\n",
    "\n",
    "save(\"out-tinystories/model2.eqx\", checkpoint_params, model)"
   ]
  },
  {
   "cell_type": "code",
   "execution_count": null,
   "metadata": {},
   "outputs": [
    {
     "name": "stdout",
     "output_type": "stream",
     "text": [
      "Overriding config with config/train_tinystories.py:\n",
      "# train a miniature character-level shakespeare model\n",
      "# good for debugging and playing on macbooks and such\n",
      "\n",
      "out_path = 'out-tinystories/model.eqx'\n",
      "eval_interval = 250 # keep frequent because we'll overfit\n",
      "eval_iters = 20\n",
      "log_interval = 5 # don't print too too often\n",
      "\n",
      "# we expect to overfit on this small dataset, so only save when val improves\n",
      "always_save_checkpoint = False\n",
      "\n",
      "wandb_log = False # override via command line if you like\n",
      "tensorboard_log = True # override via command line if you like\n",
      "\n",
      "dataset = 'tinystories'\n",
      "gradient_accumulation_steps = 1\n",
      "batch_size = 32\n",
      "block_size = 100 # context of up to 256 previous characters\n",
      "\n",
      "# baby GPT model :)\n",
      "n_layer = 16\n",
      "n_head = 12\n",
      "n_embd = 512\n",
      "dropout = 0.0\n",
      "\n",
      "learning_rate = 1e-4 # with baby networks can afford to go a bit higher\n",
      "max_iters = 500\n",
      "lr_decay_iters = 500 # make equal to max_iters usually\n",
      "min_lr = 1e-5 # learning_rate / 10 usually\n",
      "beta2 = 0.99 # make a bit bigger because number of tokens per iter is small\n",
      "\n",
      "warmup_iters = 100 # not super necessary potentially\n",
      "\n",
      "# on macbook also add\n",
      "# device = 'cpu'  # run on cpu only\n",
      "# compile = False # do not torch compile the model\n",
      "Overriding: init_from = resume\n",
      "Overriding: out_path = out-tinystories/modded_model.eqx\n",
      "Overriding: max_iters = 250\n",
      "✅ Output dir created !\n",
      "Resuming training from out-tinystories/modded_model.eqx\n",
      "Traceback (most recent call last):\n",
      "  File \"/home/tugdual/nanoEQXGPT/modded_train.py\", line 185, in <module>\n",
      "    model, checkpoint = load(out_path)\n",
      "  File \"/home/tugdual/nanoEQXGPT/modded_train.py\", line 172, in load\n",
      "    with open(filename, \"rb\") as f:\n",
      "FileNotFoundError: [Errno 2] No such file or directory: 'out-tinystories/modded_model.eqx'\n"
     ]
    }
   ],
   "source": [
    "!python3 train.py config/train_tinystories.py --init_from=\"resume\" --out_path=\"out-tinystories/model2.eqx\" --max_iters=250"
   ]
  },
  {
   "cell_type": "code",
   "execution_count": null,
   "metadata": {},
   "outputs": [],
   "source": []
  }
 ],
 "metadata": {
  "kernelspec": {
   "display_name": "xtts",
   "language": "python",
   "name": "python3"
  },
  "language_info": {
   "codemirror_mode": {
    "name": "ipython",
    "version": 3
   },
   "file_extension": ".py",
   "mimetype": "text/x-python",
   "name": "python",
   "nbconvert_exporter": "python",
   "pygments_lexer": "ipython3",
   "version": "3.10.15"
  }
 },
 "nbformat": 4,
 "nbformat_minor": 2
}
