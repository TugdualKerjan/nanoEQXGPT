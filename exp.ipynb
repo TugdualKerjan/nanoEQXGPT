{
 "cells": [
  {
   "cell_type": "code",
   "execution_count": 11,
   "metadata": {},
   "outputs": [],
   "source": [
    "!cp out-tinystories/model.eqx out-tinystories/model2.eqx"
   ]
  },
  {
   "cell_type": "code",
   "execution_count": null,
   "metadata": {},
   "outputs": [],
   "source": [
    "!python3 train.py config/train_tinystories.py--out_path=\"out-tinystories/model.eqx\" --max_iters=250"
   ]
  },
  {
   "cell_type": "code",
   "execution_count": 12,
   "metadata": {},
   "outputs": [
    {
     "name": "stdout",
     "output_type": "stream",
     "text": [
      "Overriding config with config/train_tinystories.py:\n",
      "# train a miniature character-level shakespeare model\n",
      "# good for debugging and playing on macbooks and such\n",
      "\n",
      "out_path = 'out-tinystories/model.eqx'\n",
      "eval_interval = 250 # keep frequent because we'll overfit\n",
      "eval_iters = 20\n",
      "log_interval = 5 # don't print too too often\n",
      "\n",
      "# we expect to overfit on this small dataset, so only save when val improves\n",
      "always_save_checkpoint = False\n",
      "\n",
      "wandb_log = False # override via command line if you like\n",
      "tensorboard_log = True  # override via command line if you like\n",
      "log_project = \"exp2\"\n",
      "log_run_name = \"secondrunwithfifty50oldornewembandlmhead\"  # 'run' + str(time.time())\n",
      "\n",
      "dataset = 'tinystories'\n",
      "gradient_accumulation_steps = 1\n",
      "batch_size = 32\n",
      "block_size = 100 # context of up to 256 previous characters\n",
      "\n",
      "# baby GPT model :)\n",
      "n_layer = 16\n",
      "n_head = 12\n",
      "n_embd = 512\n",
      "dropout = 0.0\n",
      "\n",
      "learning_rate = 1e-4 # with baby networks can afford to go a bit higher\n",
      "max_iters = 500\n",
      "lr_decay_iters = 500 # make equal to max_iters usually\n",
      "min_lr = 1e-5 # learning_rate / 10 usually\n",
      "beta2 = 0.99 # make a bit bigger because number of tokens per iter is small\n",
      "\n",
      "warmup_iters = 100 # not super necessary potentially\n",
      "\n",
      "# on macbook also add\n",
      "# device = 'cpu'  # run on cpu only\n",
      "# compile = False # do not torch compile the model\n",
      "Overriding: init_from = resume\n",
      "Overriding: out_path = out-tinystories/model2.eqx\n",
      "Overriding: max_iters = 250\n",
      "✅ Output dir created !\n",
      "Resuming training from out-tinystories/model2.eqx\n",
      "Traceback (most recent call last):\n",
      "  File \"/home/tugdual/miniconda3/envs/xtts/lib/python3.10/site-packages/equinox/_serialisation.py\", line 36, in _f\n",
      "    return f(*xs)\n",
      "  File \"/home/tugdual/miniconda3/envs/xtts/lib/python3.10/site-packages/equinox/_serialisation.py\", line 323, in __deserialise\n",
      "    return spec(f, y)\n",
      "  File \"/home/tugdual/miniconda3/envs/xtts/lib/python3.10/site-packages/equinox/_serialisation.py\", line 127, in default_deserialise_filter_spec\n",
      "    return jnp.load(f)\n",
      "  File \"/home/tugdual/miniconda3/envs/xtts/lib/python3.10/site-packages/jax/_src/numpy/lax_numpy.py\", line 360, in load\n",
      "    out = np.load(file, *args, **kwargs)\n",
      "  File \"/home/tugdual/miniconda3/envs/xtts/lib/python3.10/site-packages/numpy/lib/_npyio_impl.py\", line 490, in load\n",
      "    raise ValueError(\"Cannot load file containing pickled data \"\n",
      "ValueError: Cannot load file containing pickled data when allow_pickle=False\n",
      "\n",
      "The above exception was the direct cause of the following exception:\n",
      "\n",
      "Traceback (most recent call last):\n",
      "  File \"/home/tugdual/miniconda3/envs/xtts/lib/python3.10/site-packages/equinox/_serialisation.py\", line 36, in _f\n",
      "    return f(*xs)\n",
      "  File \"/home/tugdual/miniconda3/envs/xtts/lib/python3.10/site-packages/equinox/_serialisation.py\", line 325, in _deserialise\n",
      "    return _ordered_tree_map(__deserialise, x, is_leaf=is_leaf)\n",
      "  File \"/home/tugdual/miniconda3/envs/xtts/lib/python3.10/site-packages/equinox/_serialisation.py\", line 47, in _ordered_tree_map\n",
      "    return treedef.unflatten(_f(*xs) for xs in zip(*all_leaves))\n",
      "  File \"/home/tugdual/miniconda3/envs/xtts/lib/python3.10/site-packages/equinox/_serialisation.py\", line 47, in <genexpr>\n",
      "    return treedef.unflatten(_f(*xs) for xs in zip(*all_leaves))\n",
      "  File \"/home/tugdual/miniconda3/envs/xtts/lib/python3.10/site-packages/equinox/_serialisation.py\", line 45, in _f\n",
      "    raise exc from e\n",
      "equinox._serialisation.TreePathError: Error at leaf with path (GetAttrKey(name='layers'), SequenceKey(idx=0), GetAttrKey(name='mlp'), GetAttrKey(name='c_fc'), GetAttrKey(name='weight'))\n",
      "\n",
      "The above exception was the direct cause of the following exception:\n",
      "\n",
      "Traceback (most recent call last):\n",
      "  File \"/home/tugdual/nanoEQXGPT/train.py\", line 197, in <module>\n",
      "    model, checkpoint = load(out_path)\n",
      "  File \"/home/tugdual/nanoEQXGPT/train.py\", line 176, in load\n",
      "    model = eqx.tree_deserialise_leaves(out_path, model)\n",
      "  File \"/home/tugdual/miniconda3/envs/xtts/lib/python3.10/site-packages/equinox/_serialisation.py\", line 327, in tree_deserialise_leaves\n",
      "    out = _ordered_tree_map(_deserialise, filter_spec, like)\n",
      "  File \"/home/tugdual/miniconda3/envs/xtts/lib/python3.10/site-packages/equinox/_serialisation.py\", line 47, in _ordered_tree_map\n",
      "    return treedef.unflatten(_f(*xs) for xs in zip(*all_leaves))\n",
      "  File \"/home/tugdual/miniconda3/envs/xtts/lib/python3.10/site-packages/equinox/_serialisation.py\", line 47, in <genexpr>\n",
      "    return treedef.unflatten(_f(*xs) for xs in zip(*all_leaves))\n",
      "  File \"/home/tugdual/miniconda3/envs/xtts/lib/python3.10/site-packages/equinox/_serialisation.py\", line 41, in _f\n",
      "    raise exc from e\n",
      "equinox._serialisation.TreePathError: Error at leaf with path (GetAttrKey(name='layers'), SequenceKey(idx=0), GetAttrKey(name='mlp'), GetAttrKey(name='c_fc'), GetAttrKey(name='weight'))\n"
     ]
    }
   ],
   "source": [
    "!python3 train.py config/train_tinystories.py --init_from=\"resume\" --out_path=\"out-tinystories/model2.eqx\" --max_iters=250"
   ]
  },
  {
   "cell_type": "code",
   "execution_count": null,
   "metadata": {},
   "outputs": [],
   "source": []
  }
 ],
 "metadata": {
  "kernelspec": {
   "display_name": "xtts",
   "language": "python",
   "name": "python3"
  },
  "language_info": {
   "codemirror_mode": {
    "name": "ipython",
    "version": 3
   },
   "file_extension": ".py",
   "mimetype": "text/x-python",
   "name": "python",
   "nbconvert_exporter": "python",
   "pygments_lexer": "ipython3",
   "version": "3.10.15"
  }
 },
 "nbformat": 4,
 "nbformat_minor": 2
}
